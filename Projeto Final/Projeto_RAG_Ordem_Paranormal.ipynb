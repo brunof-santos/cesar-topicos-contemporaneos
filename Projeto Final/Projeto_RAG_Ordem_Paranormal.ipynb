{
  "cells": [
    {
      "cell_type": "markdown",
      "source": [
        "# Projeto RAG - Ordem Paranormal"
      ],
      "metadata": {
        "id": "qNNVWRJ7AuLh"
      }
    },
    {
      "cell_type": "markdown",
      "source": [
        "Alunos:\n",
        "\n",
        "- Bruno Santos (bfss@cesar.school)\n",
        "- Caio Guedes (ccsg@cesar.school)"
      ],
      "metadata": {
        "id": "3YvkMsI407dw"
      }
    },
    {
      "cell_type": "markdown",
      "source": [
        "# Escolha do documento"
      ],
      "metadata": {
        "id": "RYN7XKWd9or6"
      }
    },
    {
      "cell_type": "markdown",
      "source": [
        "O documento escolhido foram duas páginas web de uma wiki comunitária que trata sobre o sistema brasileiro de RPG Ordem Paranormal. No universo do sistema, existe a nossa realidade e o chamado Outro Lado, um universo paranormal com criaturas e entidades que tentam invadir o nosso mundo.\n",
        "\n",
        "Os documentos são duas páginas da wiki que falam a respeito do Ocultismo (principal perícia do sistema, que trata sobre as características de coisas do outro lado) e os Elementos do Outro Lado (tratando sobre os 5 principais elementos de criaturas, rituais e itens paranormais: Sangue, Morte, Energia, Conhecimento e Medo)."
      ],
      "metadata": {
        "id": "xSdsiGSz9tC6"
      }
    },
    {
      "cell_type": "markdown",
      "source": [
        "# Importações"
      ],
      "metadata": {
        "id": "nUAsupHW6-Xj"
      }
    },
    {
      "cell_type": "code",
      "source": [
        "!pip install langchain langchain_openai langchain_community"
      ],
      "metadata": {
        "collapsed": true,
        "colab": {
          "base_uri": "https://localhost:8080/"
        },
        "id": "_9NGZg7prdLj",
        "outputId": "58aa52e0-4f8a-4f90-a5e6-cd9f3b750fae"
      },
      "execution_count": 20,
      "outputs": [
        {
          "output_type": "stream",
          "name": "stdout",
          "text": [
            "Requirement already satisfied: langchain in /usr/local/lib/python3.10/dist-packages (0.3.14)\n",
            "Requirement already satisfied: langchain_openai in /usr/local/lib/python3.10/dist-packages (0.3.0)\n",
            "Requirement already satisfied: langchain_community in /usr/local/lib/python3.10/dist-packages (0.3.14)\n",
            "Requirement already satisfied: PyYAML>=5.3 in /usr/local/lib/python3.10/dist-packages (from langchain) (6.0.2)\n",
            "Requirement already satisfied: SQLAlchemy<3,>=1.4 in /usr/local/lib/python3.10/dist-packages (from langchain) (2.0.36)\n",
            "Requirement already satisfied: aiohttp<4.0.0,>=3.8.3 in /usr/local/lib/python3.10/dist-packages (from langchain) (3.11.11)\n",
            "Requirement already satisfied: async-timeout<5.0.0,>=4.0.0 in /usr/local/lib/python3.10/dist-packages (from langchain) (4.0.3)\n",
            "Requirement already satisfied: langchain-core<0.4.0,>=0.3.29 in /usr/local/lib/python3.10/dist-packages (from langchain) (0.3.29)\n",
            "Requirement already satisfied: langchain-text-splitters<0.4.0,>=0.3.3 in /usr/local/lib/python3.10/dist-packages (from langchain) (0.3.5)\n",
            "Requirement already satisfied: langsmith<0.3,>=0.1.17 in /usr/local/lib/python3.10/dist-packages (from langchain) (0.2.10)\n",
            "Requirement already satisfied: numpy<2,>=1.22.4 in /usr/local/lib/python3.10/dist-packages (from langchain) (1.26.4)\n",
            "Requirement already satisfied: pydantic<3.0.0,>=2.7.4 in /usr/local/lib/python3.10/dist-packages (from langchain) (2.10.4)\n",
            "Requirement already satisfied: requests<3,>=2 in /usr/local/lib/python3.10/dist-packages (from langchain) (2.32.3)\n",
            "Requirement already satisfied: tenacity!=8.4.0,<10,>=8.1.0 in /usr/local/lib/python3.10/dist-packages (from langchain) (9.0.0)\n",
            "Requirement already satisfied: openai<2.0.0,>=1.58.1 in /usr/local/lib/python3.10/dist-packages (from langchain_openai) (1.59.4)\n",
            "Requirement already satisfied: tiktoken<1,>=0.7 in /usr/local/lib/python3.10/dist-packages (from langchain_openai) (0.8.0)\n",
            "Requirement already satisfied: dataclasses-json<0.7,>=0.5.7 in /usr/local/lib/python3.10/dist-packages (from langchain_community) (0.6.7)\n",
            "Requirement already satisfied: httpx-sse<0.5.0,>=0.4.0 in /usr/local/lib/python3.10/dist-packages (from langchain_community) (0.4.0)\n",
            "Requirement already satisfied: pydantic-settings<3.0.0,>=2.4.0 in /usr/local/lib/python3.10/dist-packages (from langchain_community) (2.7.1)\n",
            "Requirement already satisfied: aiohappyeyeballs>=2.3.0 in /usr/local/lib/python3.10/dist-packages (from aiohttp<4.0.0,>=3.8.3->langchain) (2.4.4)\n",
            "Requirement already satisfied: aiosignal>=1.1.2 in /usr/local/lib/python3.10/dist-packages (from aiohttp<4.0.0,>=3.8.3->langchain) (1.3.2)\n",
            "Requirement already satisfied: attrs>=17.3.0 in /usr/local/lib/python3.10/dist-packages (from aiohttp<4.0.0,>=3.8.3->langchain) (24.3.0)\n",
            "Requirement already satisfied: frozenlist>=1.1.1 in /usr/local/lib/python3.10/dist-packages (from aiohttp<4.0.0,>=3.8.3->langchain) (1.5.0)\n",
            "Requirement already satisfied: multidict<7.0,>=4.5 in /usr/local/lib/python3.10/dist-packages (from aiohttp<4.0.0,>=3.8.3->langchain) (6.1.0)\n",
            "Requirement already satisfied: propcache>=0.2.0 in /usr/local/lib/python3.10/dist-packages (from aiohttp<4.0.0,>=3.8.3->langchain) (0.2.1)\n",
            "Requirement already satisfied: yarl<2.0,>=1.17.0 in /usr/local/lib/python3.10/dist-packages (from aiohttp<4.0.0,>=3.8.3->langchain) (1.18.3)\n",
            "Requirement already satisfied: marshmallow<4.0.0,>=3.18.0 in /usr/local/lib/python3.10/dist-packages (from dataclasses-json<0.7,>=0.5.7->langchain_community) (3.25.1)\n",
            "Requirement already satisfied: typing-inspect<1,>=0.4.0 in /usr/local/lib/python3.10/dist-packages (from dataclasses-json<0.7,>=0.5.7->langchain_community) (0.9.0)\n",
            "Requirement already satisfied: jsonpatch<2.0,>=1.33 in /usr/local/lib/python3.10/dist-packages (from langchain-core<0.4.0,>=0.3.29->langchain) (1.33)\n",
            "Requirement already satisfied: packaging<25,>=23.2 in /usr/local/lib/python3.10/dist-packages (from langchain-core<0.4.0,>=0.3.29->langchain) (24.2)\n",
            "Requirement already satisfied: typing-extensions>=4.7 in /usr/local/lib/python3.10/dist-packages (from langchain-core<0.4.0,>=0.3.29->langchain) (4.12.2)\n",
            "Requirement already satisfied: httpx<1,>=0.23.0 in /usr/local/lib/python3.10/dist-packages (from langsmith<0.3,>=0.1.17->langchain) (0.28.1)\n",
            "Requirement already satisfied: orjson<4.0.0,>=3.9.14 in /usr/local/lib/python3.10/dist-packages (from langsmith<0.3,>=0.1.17->langchain) (3.10.13)\n",
            "Requirement already satisfied: requests-toolbelt<2.0.0,>=1.0.0 in /usr/local/lib/python3.10/dist-packages (from langsmith<0.3,>=0.1.17->langchain) (1.0.0)\n",
            "Requirement already satisfied: anyio<5,>=3.5.0 in /usr/local/lib/python3.10/dist-packages (from openai<2.0.0,>=1.58.1->langchain_openai) (3.7.1)\n",
            "Requirement already satisfied: distro<2,>=1.7.0 in /usr/local/lib/python3.10/dist-packages (from openai<2.0.0,>=1.58.1->langchain_openai) (1.9.0)\n",
            "Requirement already satisfied: jiter<1,>=0.4.0 in /usr/local/lib/python3.10/dist-packages (from openai<2.0.0,>=1.58.1->langchain_openai) (0.8.2)\n",
            "Requirement already satisfied: sniffio in /usr/local/lib/python3.10/dist-packages (from openai<2.0.0,>=1.58.1->langchain_openai) (1.3.1)\n",
            "Requirement already satisfied: tqdm>4 in /usr/local/lib/python3.10/dist-packages (from openai<2.0.0,>=1.58.1->langchain_openai) (4.67.1)\n",
            "Requirement already satisfied: annotated-types>=0.6.0 in /usr/local/lib/python3.10/dist-packages (from pydantic<3.0.0,>=2.7.4->langchain) (0.7.0)\n",
            "Requirement already satisfied: pydantic-core==2.27.2 in /usr/local/lib/python3.10/dist-packages (from pydantic<3.0.0,>=2.7.4->langchain) (2.27.2)\n",
            "Requirement already satisfied: python-dotenv>=0.21.0 in /usr/local/lib/python3.10/dist-packages (from pydantic-settings<3.0.0,>=2.4.0->langchain_community) (1.0.1)\n",
            "Requirement already satisfied: charset-normalizer<4,>=2 in /usr/local/lib/python3.10/dist-packages (from requests<3,>=2->langchain) (3.4.1)\n",
            "Requirement already satisfied: idna<4,>=2.5 in /usr/local/lib/python3.10/dist-packages (from requests<3,>=2->langchain) (3.10)\n",
            "Requirement already satisfied: urllib3<3,>=1.21.1 in /usr/local/lib/python3.10/dist-packages (from requests<3,>=2->langchain) (2.3.0)\n",
            "Requirement already satisfied: certifi>=2017.4.17 in /usr/local/lib/python3.10/dist-packages (from requests<3,>=2->langchain) (2024.12.14)\n",
            "Requirement already satisfied: greenlet!=0.4.17 in /usr/local/lib/python3.10/dist-packages (from SQLAlchemy<3,>=1.4->langchain) (3.1.1)\n",
            "Requirement already satisfied: regex>=2022.1.18 in /usr/local/lib/python3.10/dist-packages (from tiktoken<1,>=0.7->langchain_openai) (2024.11.6)\n",
            "Requirement already satisfied: exceptiongroup in /usr/local/lib/python3.10/dist-packages (from anyio<5,>=3.5.0->openai<2.0.0,>=1.58.1->langchain_openai) (1.2.2)\n",
            "Requirement already satisfied: httpcore==1.* in /usr/local/lib/python3.10/dist-packages (from httpx<1,>=0.23.0->langsmith<0.3,>=0.1.17->langchain) (1.0.7)\n",
            "Requirement already satisfied: h11<0.15,>=0.13 in /usr/local/lib/python3.10/dist-packages (from httpcore==1.*->httpx<1,>=0.23.0->langsmith<0.3,>=0.1.17->langchain) (0.14.0)\n",
            "Requirement already satisfied: jsonpointer>=1.9 in /usr/local/lib/python3.10/dist-packages (from jsonpatch<2.0,>=1.33->langchain-core<0.4.0,>=0.3.29->langchain) (3.0.0)\n",
            "Requirement already satisfied: mypy-extensions>=0.3.0 in /usr/local/lib/python3.10/dist-packages (from typing-inspect<1,>=0.4.0->dataclasses-json<0.7,>=0.5.7->langchain_community) (1.0.0)\n"
          ]
        }
      ]
    },
    {
      "cell_type": "code",
      "source": [
        "!pip install faiss-gpu"
      ],
      "metadata": {
        "colab": {
          "base_uri": "https://localhost:8080/"
        },
        "id": "2gazskKgve8A",
        "outputId": "14a554d7-85db-4f15-dcd2-321ba48c59d5",
        "collapsed": true
      },
      "execution_count": 21,
      "outputs": [
        {
          "output_type": "stream",
          "name": "stdout",
          "text": [
            "Requirement already satisfied: faiss-gpu in /usr/local/lib/python3.10/dist-packages (1.7.2)\n"
          ]
        }
      ]
    },
    {
      "cell_type": "code",
      "source": [
        "import requests\n",
        "from bs4 import BeautifulSoup\n",
        "from langchain.document_loaders import TextLoader\n",
        "from langchain_text_splitters import RecursiveCharacterTextSplitter\n",
        "from langchain_community.vectorstores import FAISS\n",
        "from langchain_openai import OpenAIEmbeddings\n",
        "from langchain_core.prompts import ChatPromptTemplate\n",
        "from langchain_openai import ChatOpenAI\n",
        "from langchain_core.output_parsers import StrOutputParser\n",
        "from langchain_core.runnables import RunnablePassthrough"
      ],
      "metadata": {
        "id": "kA5IfMTs7Pnr"
      },
      "execution_count": 22,
      "outputs": []
    },
    {
      "cell_type": "markdown",
      "source": [
        "# Configuração chave API"
      ],
      "metadata": {
        "id": "gxLZaR2s7Jeq"
      }
    },
    {
      "cell_type": "markdown",
      "source": [
        "Utilização de chave API própria da Open AI"
      ],
      "metadata": {
        "id": "cfOoxYfi-c3Z"
      }
    },
    {
      "cell_type": "code",
      "execution_count": 23,
      "metadata": {
        "id": "_uuhpOvAmpzT",
        "colab": {
          "base_uri": "https://localhost:8080/"
        },
        "outputId": "9900cc78-b017-47bf-cbf1-7ead533e040d"
      },
      "outputs": [
        {
          "name": "stdout",
          "output_type": "stream",
          "text": [
            "··········\n"
          ]
        }
      ],
      "source": [
        " import getpass\n",
        " import os\n",
        "\n",
        " os.environ[\"OPENAI_API_KEY\"] = getpass.getpass()"
      ]
    },
    {
      "cell_type": "markdown",
      "metadata": {
        "id": "ce66NAOwmpzU"
      },
      "source": [
        "# Carregando Documentos - web"
      ]
    },
    {
      "cell_type": "code",
      "source": [
        "# Lista de URLs das páginas da Wiki\n",
        "urls = [\n",
        "    \"https://ordemparanormal.fandom.com/wiki/Ocultismo\",\n",
        "    \"https://ordemparanormal.fandom.com/wiki/Elementos_do_Outro_Lado\"\n",
        "]\n",
        "\n",
        "# Nome do arquivo\n",
        "output_file = \"ordem_paranormal.txt\"\n",
        "\n",
        "# Abrir o arquivo no modo de escrita\n",
        "with open(output_file, \"w\", encoding=\"utf-8\") as file:\n",
        "    for url in urls:\n",
        "        try:\n",
        "            # Fazer a requisição e extrair o conteúdo\n",
        "            response = requests.get(url)\n",
        "            soup = BeautifulSoup(response.content, 'html.parser')\n",
        "\n",
        "            # Extrair o texto da página\n",
        "            content = soup.get_text()\n",
        "\n",
        "            # Escrever o título da página como um separador\n",
        "            file.write(f\"\\n\\n--- Conteúdo da página: {url} ---\\n\\n\")\n",
        "            file.write(content)\n",
        "\n",
        "            print(f\"Conteúdo da URL {url} salvo com sucesso!\")\n",
        "        except Exception as e:\n",
        "            print(f\"Erro ao processar a URL {url}: {e}\")\n",
        "\n",
        "print(f\"Todo o conteúdo foi salvo em {output_file}.\")"
      ],
      "metadata": {
        "colab": {
          "base_uri": "https://localhost:8080/"
        },
        "id": "bTIEFg51xcnD",
        "outputId": "9fbaa47a-356e-4628-bee4-93bf221759cd"
      },
      "execution_count": 24,
      "outputs": [
        {
          "output_type": "stream",
          "name": "stdout",
          "text": [
            "Conteúdo da URL https://ordemparanormal.fandom.com/wiki/Ocultismo salvo com sucesso!\n",
            "Conteúdo da URL https://ordemparanormal.fandom.com/wiki/Elementos_do_Outro_Lado salvo com sucesso!\n",
            "Todo o conteúdo foi salvo em ordem_paranormal.txt.\n"
          ]
        }
      ]
    },
    {
      "cell_type": "markdown",
      "source": [
        "O arquivo foi salvo em txt para posteriores consultas."
      ],
      "metadata": {
        "id": "hrgtLf1w-YNy"
      }
    },
    {
      "cell_type": "code",
      "source": [
        "# Carregar o arquivo .txt\n",
        "loader = TextLoader(\"ordem_paranormal.txt\")\n",
        "docs = loader.load()\n",
        "\n",
        "print(f\"Documento carregado com {len(docs)} página.\")"
      ],
      "metadata": {
        "colab": {
          "base_uri": "https://localhost:8080/"
        },
        "id": "A4nlf8BHtaLp",
        "outputId": "0ed4e496-d564-48f9-e4e3-0ed4b9759874"
      },
      "execution_count": 25,
      "outputs": [
        {
          "output_type": "stream",
          "name": "stdout",
          "text": [
            "Documento carregado com 1 página.\n"
          ]
        }
      ]
    },
    {
      "cell_type": "markdown",
      "metadata": {
        "id": "GJNRUYbbmpzV"
      },
      "source": [
        "# Dividindo Documentos - Splitting/Chunking"
      ]
    },
    {
      "cell_type": "markdown",
      "source": [
        "O chunk_size foi definido em 1000 caracteres, herdando 200 do anterior. Foram realizados alguns testes utilizando valores de 1500 e 2000 caracteres porém o de 1000 gerou respostas mais eficazes e que respondem melhor as perguntas realizadas."
      ],
      "metadata": {
        "id": "8h15GSFj-rAJ"
      }
    },
    {
      "cell_type": "code",
      "execution_count": 41,
      "metadata": {
        "id": "2mD_U7x7mpzV",
        "colab": {
          "base_uri": "https://localhost:8080/"
        },
        "outputId": "cdbb9762-8e5b-4142-c070-123d056af69c"
      },
      "outputs": [
        {
          "output_type": "stream",
          "name": "stdout",
          "text": [
            "Splits: 87.\n"
          ]
        }
      ],
      "source": [
        "text_splitter = RecursiveCharacterTextSplitter(\n",
        "    chunk_size=1000, chunk_overlap=200, add_start_index=True\n",
        ")\n",
        "all_splits = text_splitter.split_documents(docs)\n",
        "\n",
        "print(f\"Splits: {len(all_splits)}.\")"
      ]
    },
    {
      "cell_type": "markdown",
      "metadata": {
        "id": "bzy_c23umpzV"
      },
      "source": [
        "## Indexando - Store"
      ]
    },
    {
      "cell_type": "code",
      "execution_count": 42,
      "metadata": {
        "id": "wV-bcf3FmpzW"
      },
      "outputs": [],
      "source": [
        "vectorstore = FAISS.from_documents(all_splits, OpenAIEmbeddings())"
      ]
    },
    {
      "cell_type": "code",
      "execution_count": 43,
      "metadata": {
        "id": "m-DtD3enmpzW"
      },
      "outputs": [],
      "source": [
        "retriever = vectorstore.as_retriever(search_type=\"similarity\", search_kwargs={\"k\": 6})"
      ]
    },
    {
      "cell_type": "markdown",
      "source": [
        "## Teste Retriver"
      ],
      "metadata": {
        "id": "PkCYi3Gi73jK"
      }
    },
    {
      "cell_type": "code",
      "source": [
        "retrieved_docs = retriever.invoke(\"o que é o outro lado?\")\n",
        "\n",
        "len(retrieved_docs)"
      ],
      "metadata": {
        "colab": {
          "base_uri": "https://localhost:8080/"
        },
        "id": "rGC38TrB74Ca",
        "outputId": "e204818a-93a6-47f3-f468-c60cebafa6dc"
      },
      "execution_count": 44,
      "outputs": [
        {
          "output_type": "execute_result",
          "data": {
            "text/plain": [
              "6"
            ]
          },
          "metadata": {},
          "execution_count": 44
        }
      ]
    },
    {
      "cell_type": "code",
      "execution_count": 45,
      "metadata": {
        "id": "PwI_dAoTmpzW",
        "colab": {
          "base_uri": "https://localhost:8080/"
        },
        "outputId": "53174708-1eea-4b9b-aced-10f72e2bef8e"
      },
      "outputs": [
        {
          "output_type": "stream",
          "name": "stdout",
          "text": [
            "O Outro Lado[]\n",
            "O Outro Lado, no universo de Ordem Paranormal, é uma dimensão alternativa habitada por entidades insanas e misteriosas, também conhecidas como \"elementos\". A nossa realidade é separada do Outro Lado por uma barreira hipotética chamada Membrana. As duas dimensões se conectam naturalmente, com uma fazendo contato com a outra e vice-versa, porém, eventos macabros capazes de enfraquecer a Membrana através do Medo das pessoas podem fazer com que criaturas bizarras consigam invadir nossa realidade para gerar caos e destruição, aumentando a influência do paranormal e determinados locais.\n"
          ]
        }
      ],
      "source": [
        "print(retrieved_docs[0].page_content)"
      ]
    },
    {
      "cell_type": "markdown",
      "metadata": {
        "id": "xeBhTUbzmpzW"
      },
      "source": [
        "# Buscando e Recuperando Informações - Retrieve"
      ]
    },
    {
      "cell_type": "code",
      "execution_count": 31,
      "metadata": {
        "id": "kUfjAjRgmpzW"
      },
      "outputs": [],
      "source": [
        "system_template = \"\"\"Você é um assistente para tarefas de perguntas e respostas. Use os seguintes trechos de contexto recuperados para responder à pergunta. Se você não souber a resposta, apenas diga que não sabe. Use no máximo duas frases e mantenha a resposta concisa e fale apenas o necessário.\n",
        "\n",
        "Pergunta: {question}\n",
        "\n",
        "Contexto: {context}\n",
        "\n",
        "Resposta:\n",
        "\"\"\"\n",
        "\n",
        "prompt_template = ChatPromptTemplate.from_template(system_template)"
      ]
    },
    {
      "cell_type": "code",
      "execution_count": 32,
      "metadata": {
        "id": "DX16IoFEmpzX",
        "colab": {
          "base_uri": "https://localhost:8080/"
        },
        "outputId": "1d5e6d1a-17e3-40d8-98f8-601e05eb1d89"
      },
      "outputs": [
        {
          "output_type": "stream",
          "name": "stdout",
          "text": [
            "[HumanMessage(content='Você é um assistente para tarefas de perguntas e respostas. Use os seguintes trechos de contexto recuperados para responder à pergunta. Se você não souber a resposta, apenas diga que não sabe. Use no máximo duas frases e mantenha a resposta concisa e fale apenas o necessário.\\n\\nPergunta: alguma pergunta\\n\\nContexto: algum contexto\\n\\nResposta:\\n', additional_kwargs={}, response_metadata={})]\n"
          ]
        }
      ],
      "source": [
        "example_messages = prompt_template.invoke({\n",
        "    \"context\": \"algum contexto\",\n",
        "    \"question\": \"alguma pergunta\"\n",
        "})\n",
        "\n",
        "print(example_messages.to_messages())"
      ]
    },
    {
      "cell_type": "markdown",
      "metadata": {
        "id": "p9sbGB2KmpzX"
      },
      "source": [
        "# Gerando Respostas - Generate"
      ]
    },
    {
      "cell_type": "code",
      "execution_count": 33,
      "metadata": {
        "id": "mcOvjn75mpzX"
      },
      "outputs": [],
      "source": [
        "llm = ChatOpenAI(model=\"gpt-4o-mini\")"
      ]
    },
    {
      "cell_type": "code",
      "execution_count": 34,
      "metadata": {
        "id": "mGaFa7cMmpzX"
      },
      "outputs": [],
      "source": [
        "def format_docs(docs):\n",
        "    return \"\\n\\n\".join(doc.page_content for doc in docs)\n",
        "\n",
        "rag_chain = (\n",
        "    {\"context\": retriever | format_docs, \"question\": RunnablePassthrough()}\n",
        "    | prompt_template\n",
        "    | llm\n",
        "    | StrOutputParser()\n",
        ")"
      ]
    },
    {
      "cell_type": "markdown",
      "source": [
        "## Perguntas e Respostas"
      ],
      "metadata": {
        "id": "Vv72dGBl0z2d"
      }
    },
    {
      "cell_type": "markdown",
      "source": [
        "Perguntas realizadas via código para teste:"
      ],
      "metadata": {
        "id": "GyeH20t0AHFu"
      }
    },
    {
      "cell_type": "code",
      "source": [
        "for chunk in rag_chain.stream(\"O que é o Outro Lado?\"):\n",
        "    print(chunk, end=\"\", flush=True)"
      ],
      "metadata": {
        "colab": {
          "base_uri": "https://localhost:8080/"
        },
        "id": "0S99h-2b0Zds",
        "outputId": "e2c39271-17d7-43f5-ab14-2f9b4220a190"
      },
      "execution_count": 35,
      "outputs": [
        {
          "output_type": "stream",
          "name": "stdout",
          "text": [
            "O Outro Lado é uma dimensão alternativa no universo de Ordem Paranormal, habitada por entidades insanas, conhecida como \"elementos\". Ela se conecta à nossa realidade através de uma barreira chamada Membrana, a qual pode ser enfraquecida pelo Medo, permitindo a manifestação dessas entidades em nosso mundo."
          ]
        }
      ]
    },
    {
      "cell_type": "code",
      "execution_count": 49,
      "metadata": {
        "id": "uRDSXaBzmpzX",
        "colab": {
          "base_uri": "https://localhost:8080/"
        },
        "outputId": "087971a5-9127-49b4-e9e6-e117ea119b32"
      },
      "outputs": [
        {
          "output_type": "stream",
          "name": "stdout",
          "text": [
            "Os cinco elementos do Outro Lado são Sangue, Morte, Conhecimento, Energia e Medo, cada um com propriedades únicas que influenciam suas manifestações na nossa realidade. As Relíquias da Calamidade atuam como a ponte entre esses elementos e a Realidade."
          ]
        }
      ],
      "source": [
        "for chunk in rag_chain.stream(\"Quais os elementos do outro lado?\"):\n",
        "    print(chunk, end=\"\", flush=True)"
      ]
    },
    {
      "cell_type": "code",
      "source": [
        "for chunk in rag_chain.stream(\"Me fale sobre as interações entre elementos\"):\n",
        "    print(chunk, end=\"\", flush=True)"
      ],
      "metadata": {
        "colab": {
          "base_uri": "https://localhost:8080/"
        },
        "id": "_SRMQWSbwgxH",
        "outputId": "e882e90a-64d7-40ad-82c7-406a0374a750"
      },
      "execution_count": 47,
      "outputs": [
        {
          "output_type": "stream",
          "name": "stdout",
          "text": [
            "As interações entre elementos podem resultar em combinações que criam rituais ou criaturas, como o Ritual de Ouvir os Sussurros, que reúne Morte, Conhecimento e Energia. Elementos opostos, como Sangue, Morte, Conhecimento e Energia, podem se unir de maneira imprevisível sob a influência dos Seis Sinos de Tenebris, criando manifestações que desafiam a lógica da realidade."
          ]
        }
      ]
    },
    {
      "cell_type": "code",
      "source": [
        "for chunk in rag_chain.stream(\"O que são os sinos de Tenebris?\"):\n",
        "    print(chunk, end=\"\", flush=True)"
      ],
      "metadata": {
        "colab": {
          "base_uri": "https://localhost:8080/"
        },
        "id": "F-FpQSBi_h5w",
        "outputId": "8264fecd-6315-4d81-ead7-64af7e667a77"
      },
      "execution_count": 48,
      "outputs": [
        {
          "output_type": "stream",
          "name": "stdout",
          "text": [
            "Os sinos de Tenebris representam a \"união impossível daquilo que se repele\", equilibrando os elementos Sangue, Morte, Conhecimento e Energia, que normalmente agem de forma contrária. Essa intersecção resulta na criação de criaturas e manifestações que desafiam a lógica e a realidade."
          ]
        }
      ]
    },
    {
      "cell_type": "markdown",
      "source": [
        "Todas as respostas acima estão condizentes com o contexto e o universo tratado no sistema de RPG."
      ],
      "metadata": {
        "id": "FrvTYPOkAPUG"
      }
    },
    {
      "cell_type": "markdown",
      "source": [
        "Segmento para input de pergunta própria:"
      ],
      "metadata": {
        "id": "8_zCFdiFALdG"
      }
    },
    {
      "cell_type": "code",
      "source": [
        "pergunta = input(\"Digite sua pergunta: \")\n",
        "for chunk in rag_chain.stream(pergunta):\n",
        "    print(chunk, end=\"\", flush=True)"
      ],
      "metadata": {
        "colab": {
          "base_uri": "https://localhost:8080/"
        },
        "id": "9FeUygQT9HRy",
        "outputId": "13579b95-4ec9-4342-d794-c15fb67af328"
      },
      "execution_count": 46,
      "outputs": [
        {
          "output_type": "stream",
          "name": "stdout",
          "text": [
            "Digite sua pergunta: Quais as características do elemento Morte?\n",
            "O elemento Morte é caracterizado por sua conexão com a distorção temporal, a percepção egóica da existência e a representação por espirais e Lodo Preto. Criaturas associadas a este elemento são apáticas, com movimentos inconstantes, e sua afinidade pode resultar em alterações físicas e psíquicas nos indivíduos."
          ]
        }
      ]
    }
  ],
  "metadata": {
    "kernelspec": {
      "display_name": "base",
      "language": "python",
      "name": "python3"
    },
    "language_info": {
      "codemirror_mode": {
        "name": "ipython",
        "version": 3
      },
      "file_extension": ".py",
      "mimetype": "text/x-python",
      "name": "python",
      "nbconvert_exporter": "python",
      "pygments_lexer": "ipython3",
      "version": "3.10.13"
    },
    "colab": {
      "provenance": [],
      "toc_visible": true
    }
  },
  "nbformat": 4,
  "nbformat_minor": 0
}